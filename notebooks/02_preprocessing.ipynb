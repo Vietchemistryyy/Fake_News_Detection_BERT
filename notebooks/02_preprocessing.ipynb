{
 "cells": [
  {
   "cell_type": "code",
   "execution_count": 4,
   "id": "282929bf",
   "metadata": {},
   "outputs": [
    {
     "name": "stdout",
     "output_type": "stream",
     "text": [
      "✅ Imports successful!\n"
     ]
    }
   ],
   "source": [
    "# ============================================================================\n",
    "# CELL 1: Imports and Setup\n",
    "# ============================================================================\n",
    "import sys\n",
    "sys.path.append('..')\n",
    "\n",
    "import pandas as pd\n",
    "import numpy as np\n",
    "import matplotlib.pyplot as plt\n",
    "import seaborn as sns\n",
    "\n",
    "# Import from src\n",
    "from src.preprocessing import preprocess_pipeline, TextPreprocessor\n",
    "from src.config import DataConfig, PROCESSED_DATA_DIR, VISUALIZATIONS_DIR\n",
    "from src.utils import plot_label_distribution, save_json\n",
    "\n",
    "print(\"✅ Imports successful!\")\n"
   ]
  },
  {
   "cell_type": "code",
   "execution_count": 5,
   "id": "e79b268b",
   "metadata": {},
   "outputs": [
    {
     "name": "stderr",
     "output_type": "stream",
     "text": [
      "2025-10-20 19:56:30 - preprocessing - INFO - ================================================================================\n",
      "2025-10-20 19:56:30 - preprocessing - INFO - PREPROCESSING PIPELINE STARTED\n",
      "2025-10-20 19:56:30 - preprocessing - INFO - ================================================================================\n"
     ]
    },
    {
     "name": "stdout",
     "output_type": "stream",
     "text": [
      "================================================================================\n",
      "RUNNING PREPROCESSING PIPELINE\n",
      "================================================================================\n"
     ]
    },
    {
     "name": "stderr",
     "output_type": "stream",
     "text": [
      "2025-10-20 19:56:34 - preprocessing - INFO - Loading data from: d:\\Fake_News_Detection_BERT\\notebooks\\..\\data\\raw\\data.csv\n"
     ]
    },
    {
     "name": "stdout",
     "output_type": "stream",
     "text": [
      "✅ Random seed set to: 42\n",
      "⏱️  Data loading started...\n"
     ]
    },
    {
     "name": "stderr",
     "output_type": "stream",
     "text": [
      "2025-10-20 19:56:37 - preprocessing - INFO - ✅ Loaded 136122 records\n",
      "2025-10-20 19:56:37 - preprocessing - INFO -    Columns: ['content', 'label']\n",
      "2025-10-20 19:56:37 - preprocessing - INFO -    Shape: (136122, 2)\n",
      "2025-10-20 19:56:37 - preprocessing - INFO - Checking data quality...\n"
     ]
    },
    {
     "name": "stdout",
     "output_type": "stream",
     "text": [
      "✅ Data loading completed in 3.11 seconds\n",
      "⏱️  Quality check started...\n"
     ]
    },
    {
     "name": "stderr",
     "output_type": "stream",
     "text": [
      "2025-10-20 19:56:37 - preprocessing - INFO - Data quality check complete:\n",
      "2025-10-20 19:56:37 - preprocessing - INFO -   - Missing values: 1\n",
      "2025-10-20 19:56:37 - preprocessing - INFO -   - Empty content: 0\n",
      "2025-10-20 19:56:37 - preprocessing - INFO -   - Duplicates: 0\n",
      "2025-10-20 19:56:37 - preprocessing - INFO -   - Invalid labels: 0\n",
      "2025-10-20 19:56:37 - preprocessing - INFO - \n",
      "Handling missing and invalid data...\n",
      "2025-10-20 19:56:38 - preprocessing - INFO -   - Dropped 1 rows with missing values\n",
      "2025-10-20 19:56:38 - preprocessing - INFO -   - Removed 1 rows with empty content\n"
     ]
    },
    {
     "name": "stdout",
     "output_type": "stream",
     "text": [
      "✅ Quality check completed in 0.39 seconds\n"
     ]
    },
    {
     "name": "stderr",
     "output_type": "stream",
     "text": [
      "2025-10-20 19:56:38 - preprocessing - INFO -   - Final dataset: 136121 rows\n",
      "2025-10-20 19:56:38 - preprocessing - INFO - TextPreprocessor initialized\n",
      "2025-10-20 19:56:38 - preprocessing - INFO -   - Remove URLs: True\n",
      "2025-10-20 19:56:38 - preprocessing - INFO -   - Remove Mentions: True\n",
      "2025-10-20 19:56:38 - preprocessing - INFO -   - Remove Hashtags: True\n",
      "2025-10-20 19:56:38 - preprocessing - INFO -   - Lowercase: True\n",
      "2025-10-20 19:56:38 - preprocessing - INFO - Cleaning 136121 records...\n"
     ]
    },
    {
     "name": "stdout",
     "output_type": "stream",
     "text": [
      "⏱️  Text cleaning started...\n"
     ]
    },
    {
     "name": "stderr",
     "output_type": "stream",
     "text": [
      "2025-10-20 19:56:54 - preprocessing - INFO - Cleaning complete!\n",
      "2025-10-20 19:56:54 - preprocessing - INFO -   - Removed 58 empty records\n",
      "2025-10-20 19:56:54 - preprocessing - INFO -   - Final dataset: 136063 records\n",
      "2025-10-20 19:56:54 - preprocessing - INFO - Splitting data...\n",
      "2025-10-20 19:56:54 - preprocessing - INFO -   - Train: 70.0%\n",
      "2025-10-20 19:56:54 - preprocessing - INFO -   - Validation: 15.0%\n",
      "2025-10-20 19:56:54 - preprocessing - INFO -   - Test: 15.0%\n",
      "2025-10-20 19:56:54 - preprocessing - INFO - Split complete:\n",
      "2025-10-20 19:56:54 - preprocessing - INFO -   - Training:   95,244 samples (70.0%)\n",
      "2025-10-20 19:56:54 - preprocessing - INFO -   - Validation: 20,409 samples (15.0%)\n",
      "2025-10-20 19:56:54 - preprocessing - INFO -   - Test:       20,410 samples (15.0%)\n",
      "2025-10-20 19:56:54 - preprocessing - INFO - Stratification verification:\n",
      "2025-10-20 19:56:54 - preprocessing - INFO -   - Train fake news: 46.90%\n",
      "2025-10-20 19:56:54 - preprocessing - INFO -   - Val fake news:   46.90%\n",
      "2025-10-20 19:56:54 - preprocessing - INFO -   - Test fake news:  46.90%\n",
      "2025-10-20 19:56:54 - preprocessing - INFO - Calculating class weights...\n",
      "2025-10-20 19:56:54 - preprocessing - INFO - Class weights computed:\n",
      "2025-10-20 19:56:54 - preprocessing - INFO -   - Class 0 (Real): 0.9416\n",
      "2025-10-20 19:56:54 - preprocessing - INFO -   - Class 1 (Fake): 1.0661\n",
      "2025-10-20 19:56:54 - preprocessing - INFO - Saving splits to: d:\\Fake_News_Detection_BERT\\notebooks\\..\\data\\processed\n"
     ]
    },
    {
     "name": "stdout",
     "output_type": "stream",
     "text": [
      "✅ Text cleaning completed in 15.83 seconds\n",
      "⏱️  Data splitting started...\n",
      "✅ Data splitting completed in 0.11 seconds\n",
      "⏱️  Saving splits started...\n",
      "✅ Saved CSV to: d:\\Fake_News_Detection_BERT\\notebooks\\..\\data\\processed\\train.csv\n",
      "✅ Saved CSV to: d:\\Fake_News_Detection_BERT\\notebooks\\..\\data\\processed\\val.csv\n"
     ]
    },
    {
     "name": "stderr",
     "output_type": "stream",
     "text": [
      "2025-10-20 19:57:05 - preprocessing - INFO - ✅ All splits saved successfully!\n",
      "2025-10-20 19:57:05 - preprocessing - INFO - ================================================================================\n",
      "2025-10-20 19:57:05 - preprocessing - INFO - PREPROCESSING PIPELINE COMPLETED ✅\n",
      "2025-10-20 19:57:05 - preprocessing - INFO - ================================================================================\n"
     ]
    },
    {
     "name": "stdout",
     "output_type": "stream",
     "text": [
      "✅ Saved CSV to: d:\\Fake_News_Detection_BERT\\notebooks\\..\\data\\processed\\test.csv\n",
      "✅ Saving splits completed in 11.36 seconds\n",
      "\n",
      "✅ Preprocessing complete!\n"
     ]
    }
   ],
   "source": [
    "# ============================================================================\n",
    "# CELL 2: Run Preprocessing Pipeline\n",
    "# ============================================================================\n",
    "print(\"=\"*80)\n",
    "print(\"RUNNING PREPROCESSING PIPELINE\")\n",
    "print(\"=\"*80)\n",
    "\n",
    "# Run the complete pipeline\n",
    "train_df, val_df, test_df = preprocess_pipeline(save_output=True)\n",
    "\n",
    "print(\"\\n✅ Preprocessing complete!\")"
   ]
  },
  {
   "cell_type": "code",
   "execution_count": 6,
   "id": "c8ac2605",
   "metadata": {},
   "outputs": [
    {
     "name": "stdout",
     "output_type": "stream",
     "text": [
      "\n",
      "================================================================================\n",
      "VERIFYING DATA SPLITS\n",
      "================================================================================\n",
      "\n",
      "📊 Training Set:\n",
      "   Shape: (95244, 3)\n",
      "   Columns: ['content', 'label', 'cleaned_content']\n",
      "                                                 content  label  \\\n",
      "63917  pilots are resigning from German Air Force – t...      1   \n",
      "64125  New evidence that the snipers that killed 49 p...      1   \n",
      "41199  It s bad enough that the Oscar s this year don...      1   \n",
      "\n",
      "                                         cleaned_content  \n",
      "63917  pilots are resigning from german air force – t...  \n",
      "64125  new evidence that the snipers that killed 49 p...  \n",
      "41199  it s bad enough that the oscar s this year don...  \n",
      "\n",
      "📊 Validation Set:\n",
      "   Shape: (20409, 3)\n",
      "                                                  content  label  \\\n",
      "130394  MIKE ROWE ASKS: Why Are OUR Tax Dollars Fundin...      1   \n",
      "107402  Illinois proposes state police hiring in effor...      0   \n",
      "23270   Trump officials brief Hill staff on Saudi reac...      0   \n",
      "\n",
      "                                          cleaned_content  \n",
      "130394  mike rowe asks: why are our tax dollars fundin...  \n",
      "107402  illinois proposes state police hiring in effor...  \n",
      "23270   trump officials brief hill staff on saudi reac...  \n",
      "\n",
      "📊 Test Set:\n",
      "   Shape: (20410, 3)\n",
      "                                                 content  label  \\\n",
      "89993  President Trump on Tuesday night named Judge N...      0   \n",
      "75142  Leonard “Roscoe” Newton has been in and out of...      0   \n",
      "71514  President Donald Trump has given the military ...      0   \n",
      "\n",
      "                                         cleaned_content  \n",
      "89993  president trump on tuesday night named judge n...  \n",
      "75142  leonard “roscoe” newton has been in and out of...  \n",
      "71514  president donald trump has given the military ...  \n"
     ]
    }
   ],
   "source": [
    "# ============================================================================\n",
    "# CELL 3: Verify Data Splits\n",
    "# ============================================================================\n",
    "print(\"\\n\" + \"=\"*80)\n",
    "print(\"VERIFYING DATA SPLITS\")\n",
    "print(\"=\"*80)\n",
    "\n",
    "print(f\"\\n📊 Training Set:\")\n",
    "print(f\"   Shape: {train_df.shape}\")\n",
    "print(f\"   Columns: {train_df.columns.tolist()}\")\n",
    "print(train_df.head(3))\n",
    "\n",
    "print(f\"\\n📊 Validation Set:\")\n",
    "print(f\"   Shape: {val_df.shape}\")\n",
    "print(val_df.head(3))\n",
    "\n",
    "print(f\"\\n📊 Test Set:\")\n",
    "print(f\"   Shape: {test_df.shape}\")\n",
    "print(test_df.head(3))\n"
   ]
  },
  {
   "cell_type": "code",
   "execution_count": 7,
   "id": "9410bb2b",
   "metadata": {},
   "outputs": [
    {
     "name": "stdout",
     "output_type": "stream",
     "text": [
      "\n",
      "================================================================================\n",
      "LABEL DISTRIBUTION ACROSS SPLITS\n",
      "================================================================================\n",
      "\n",
      "📊 Training Set:\n",
      "   Real (0): 53.10%\n",
      "   Fake (1): 46.90%\n",
      "\n",
      "📊 Validation Set:\n",
      "   Real (0): 53.10%\n",
      "   Fake (1): 46.90%\n",
      "\n",
      "📊 Test Set:\n",
      "   Real (0): 53.10%\n",
      "   Fake (1): 46.90%\n",
      "\n",
      "✅ Visualization saved!\n"
     ]
    },
    {
     "data": {
      "image/png": "[encoded data removed]",
      "text/plain": [
       "<Figure size 1500x400 with 3 Axes>"
      ]
     },
     "metadata": {},
     "output_type": "display_data"
    }
   ],
   "source": [
    "# ============================================================================\n",
    "# CELL 4: Check Label Distribution Across Splits\n",
    "# ============================================================================\n",
    "print(\"\\n\" + \"=\"*80)\n",
    "print(\"LABEL DISTRIBUTION ACROSS SPLITS\")\n",
    "print(\"=\"*80)\n",
    "\n",
    "# Calculate distributions\n",
    "train_dist = train_df[DataConfig.LABEL_COLUMN].value_counts(normalize=True) * 100\n",
    "val_dist = val_df[DataConfig.LABEL_COLUMN].value_counts(normalize=True) * 100\n",
    "test_dist = test_df[DataConfig.LABEL_COLUMN].value_counts(normalize=True) * 100\n",
    "\n",
    "print(\"\\n📊 Training Set:\")\n",
    "print(f\"   Real (0): {train_dist.get(0, 0):.2f}%\")\n",
    "print(f\"   Fake (1): {train_dist.get(1, 0):.2f}%\")\n",
    "\n",
    "print(\"\\n📊 Validation Set:\")\n",
    "print(f\"   Real (0): {val_dist.get(0, 0):.2f}%\")\n",
    "print(f\"   Fake (1): {val_dist.get(1, 0):.2f}%\")\n",
    "\n",
    "print(\"\\n📊 Test Set:\")\n",
    "print(f\"   Real (0): {test_dist.get(0, 0):.2f}%\")\n",
    "print(f\"   Fake (1): {test_dist.get(1, 0):.2f}%\")\n",
    "\n",
    "# Visualize splits\n",
    "fig, axes = plt.subplots(1, 3, figsize=(15, 4))\n",
    "\n",
    "datasets = [\n",
    "    ('Training', train_df),\n",
    "    ('Validation', val_df),\n",
    "    ('Test', test_df)\n",
    "]\n",
    "\n",
    "for idx, (name, df) in enumerate(datasets):\n",
    "    label_counts = df[DataConfig.LABEL_COLUMN].value_counts()\n",
    "    axes[idx].bar(\n",
    "        ['Real (0)', 'Fake (1)'],\n",
    "        [label_counts.get(0, 0), label_counts.get(1, 0)],\n",
    "        color=['#10b981', '#ef4444']\n",
    "    )\n",
    "    axes[idx].set_title(f'{name} Set\\n({len(df):,} samples)', fontsize=12, fontweight='bold')\n",
    "    axes[idx].set_ylabel('Count')\n",
    "    axes[idx].grid(axis='y', alpha=0.3)\n",
    "    \n",
    "    # Add percentage labels on bars\n",
    "    for i, v in enumerate([label_counts.get(0, 0), label_counts.get(1, 0)]):\n",
    "        pct = v / len(df) * 100\n",
    "        axes[idx].text(i, v, f'{v:,}\\n({pct:.1f}%)', \n",
    "                      ha='center', va='bottom', fontweight='bold')\n",
    "\n",
    "plt.suptitle('Data Splits - Label Distribution', fontsize=16, fontweight='bold', y=1.05)\n",
    "plt.tight_layout()\n",
    "plt.savefig(VISUALIZATIONS_DIR / \"data_splits_distribution.png\", dpi=300, bbox_inches='tight')\n",
    "print(\"\\n✅ Visualization saved!\")\n",
    "plt.show()"
   ]
  },
  {
   "cell_type": "code",
   "execution_count": 8,
   "id": "6240cc2e",
   "metadata": {},
   "outputs": [
    {
     "name": "stdout",
     "output_type": "stream",
     "text": [
      "\n",
      "================================================================================\n",
      "COMPARING ORIGINAL VS CLEANED TEXT\n",
      "================================================================================\n",
      "\n",
      "📝 Example 1:\n",
      "Original:  pilots are resigning from German Air Force – they don’t want to fight against Russia.\n",
      "Cleaned:   pilots are resigning from german air force – they don’t want to fight against russia.\n",
      "\n",
      "📝 Example 2:\n",
      "Original:  Board sure consider. affect response agency site visit one later natural tree cultural yard law soon serve herself expert western since walk tend identify model information first suffer wide task hold\n",
      "Cleaned:   board sure consider. affect response agency site visit one later natural tree cultural yard law soon serve herself expert western since walk tend identify model information first suffer wide task hold\n",
      "\n",
      "📝 Example 3:\n",
      "Original:  HOW A SIMPLE GLASS OF WATER Could Expose The Truth About Hillary’s Serious Health Issues And Cause Her To Lose The Election [VIDEO] Every American needs to consider this new evidence about Hillary and\n",
      "Cleaned:   how a simple glass of water could expose the truth about hillary’s serious health issues and cause her to lose the election [video] every american needs to consider this new evidence about hillary and\n"
     ]
    }
   ],
   "source": [
    "# ============================================================================\n",
    "# CELL 5: Compare Original vs Cleaned Text\n",
    "# ============================================================================\n",
    "print(\"\\n\" + \"=\"*80)\n",
    "print(\"COMPARING ORIGINAL VS CLEANED TEXT\")\n",
    "print(\"=\"*80)\n",
    "\n",
    "# Show examples\n",
    "print(\"\\n📝 Example 1:\")\n",
    "print(f\"Original:  {train_df.iloc[0][DataConfig.TEXT_COLUMN][:200]}\")\n",
    "print(f\"Cleaned:   {train_df.iloc[0][DataConfig.CLEANED_TEXT_COLUMN][:200]}\")\n",
    "\n",
    "print(\"\\n📝 Example 2:\")\n",
    "print(f\"Original:  {train_df.iloc[10][DataConfig.TEXT_COLUMN][:200]}\")\n",
    "print(f\"Cleaned:   {train_df.iloc[10][DataConfig.CLEANED_TEXT_COLUMN][:200]}\")\n",
    "\n",
    "print(\"\\n📝 Example 3:\")\n",
    "print(f\"Original:  {train_df.iloc[100][DataConfig.TEXT_COLUMN][:200]}\")\n",
    "print(f\"Cleaned:   {train_df.iloc[100][DataConfig.CLEANED_TEXT_COLUMN][:200]}\")"
   ]
  },
  {
   "cell_type": "code",
   "execution_count": 9,
   "id": "223c894e",
   "metadata": {},
   "outputs": [
    {
     "name": "stdout",
     "output_type": "stream",
     "text": [
      "\n",
      "================================================================================\n",
      "TEXT LENGTH AFTER CLEANING\n",
      "================================================================================\n",
      "\n",
      "📏 Cleaned Content Length Statistics:\n",
      "count     95244.000000\n",
      "mean       2573.455714\n",
      "std        2818.496553\n",
      "min           1.000000\n",
      "25%        1278.000000\n",
      "50%        1944.000000\n",
      "75%        3064.000000\n",
      "max      142961.000000\n",
      "Name: cleaned_length, dtype: float64\n",
      "\n",
      "📝 Cleaned Word Count Statistics:\n",
      "count    95244.000000\n",
      "mean       424.376958\n",
      "std        474.640306\n",
      "min          1.000000\n",
      "25%        208.000000\n",
      "50%        315.000000\n",
      "75%        511.000000\n",
      "max      24226.000000\n",
      "Name: cleaned_word_count, dtype: float64\n",
      "\n",
      "✅ Comparison visualization saved!\n"
     ]
    },
    {
     "data": {
      "image/png": "[encoded data removed]",
      "text/plain": [
       "<Figure size 1500x500 with 2 Axes>"
      ]
     },
     "metadata": {},
     "output_type": "display_data"
    }
   ],
   "source": [
    "# ============================================================================\n",
    "# CELL 6: Text Length After Cleaning\n",
    "# ============================================================================\n",
    "print(\"\\n\" + \"=\"*80)\n",
    "print(\"TEXT LENGTH AFTER CLEANING\")\n",
    "print(\"=\"*80)\n",
    "\n",
    "# Calculate lengths for cleaned text\n",
    "train_df['cleaned_length'] = train_df[DataConfig.CLEANED_TEXT_COLUMN].str.len()\n",
    "train_df['cleaned_word_count'] = train_df[DataConfig.CLEANED_TEXT_COLUMN].str.split().str.len()\n",
    "\n",
    "print(\"\\n📏 Cleaned Content Length Statistics:\")\n",
    "print(train_df['cleaned_length'].describe())\n",
    "\n",
    "print(\"\\n📝 Cleaned Word Count Statistics:\")\n",
    "print(train_df['cleaned_word_count'].describe())\n",
    "\n",
    "# Compare original vs cleaned\n",
    "fig, axes = plt.subplots(1, 2, figsize=(15, 5))\n",
    "\n",
    "# Original length\n",
    "train_df['original_length'] = train_df[DataConfig.TEXT_COLUMN].str.len()\n",
    "axes[0].hist(train_df['original_length'], bins=50, alpha=0.7, label='Original', color='blue', edgecolor='black')\n",
    "axes[0].hist(train_df['cleaned_length'], bins=50, alpha=0.7, label='Cleaned', color='green', edgecolor='black')\n",
    "axes[0].set_title('Text Length Distribution', fontsize=12, fontweight='bold')\n",
    "axes[0].set_xlabel('Length (characters)')\n",
    "axes[0].set_ylabel('Frequency')\n",
    "axes[0].legend()\n",
    "axes[0].grid(alpha=0.3)\n",
    "\n",
    "# Word count\n",
    "train_df['original_word_count'] = train_df[DataConfig.TEXT_COLUMN].str.split().str.len()\n",
    "axes[1].hist(train_df['original_word_count'], bins=50, alpha=0.7, label='Original', color='blue', edgecolor='black')\n",
    "axes[1].hist(train_df['cleaned_word_count'], bins=50, alpha=0.7, label='Cleaned', color='green', edgecolor='black')\n",
    "axes[1].set_title('Word Count Distribution', fontsize=12, fontweight='bold')\n",
    "axes[1].set_xlabel('Word Count')\n",
    "axes[1].set_ylabel('Frequency')\n",
    "axes[1].legend()\n",
    "axes[1].grid(alpha=0.3)\n",
    "\n",
    "plt.tight_layout()\n",
    "plt.savefig(VISUALIZATIONS_DIR / \"cleaning_comparison.png\", dpi=300, bbox_inches='tight')\n",
    "print(\"\\n✅ Comparison visualization saved!\")\n",
    "plt.show()"
   ]
  },
  {
   "cell_type": "code",
   "execution_count": 10,
   "id": "687b20e7",
   "metadata": {},
   "outputs": [
    {
     "name": "stdout",
     "output_type": "stream",
     "text": [
      "\n",
      "================================================================================\n",
      "CREATING SAMPLE DATASET\n",
      "================================================================================\n",
      "\n",
      "✅ Sample datasets saved to: d:\\Fake_News_Detection_BERT\\notebooks\\..\\data\\sample\n",
      "   - Train sample: 1000 records\n",
      "   - Val sample:   200 records\n",
      "   - Test sample:  200 records\n"
     ]
    }
   ],
   "source": [
    "# ============================================================================\n",
    "# CELL 7: Save Sample Data for Quick Testing\n",
    "# ============================================================================\n",
    "print(\"\\n\" + \"=\"*80)\n",
    "print(\"CREATING SAMPLE DATASET\")\n",
    "print(\"=\"*80)\n",
    "\n",
    "# Create small sample for quick testing\n",
    "sample_size = 1000\n",
    "train_sample = train_df.sample(n=min(sample_size, len(train_df)), random_state=42)\n",
    "val_sample = val_df.sample(n=min(200, len(val_df)), random_state=42)\n",
    "test_sample = test_df.sample(n=min(200, len(test_df)), random_state=42)\n",
    "\n",
    "# Save samples\n",
    "from src.config import SAMPLE_DATA_DIR\n",
    "SAMPLE_DATA_DIR.mkdir(parents=True, exist_ok=True)\n",
    "\n",
    "train_sample.to_csv(SAMPLE_DATA_DIR / \"train_sample.csv\", index=False)\n",
    "val_sample.to_csv(SAMPLE_DATA_DIR / \"val_sample.csv\", index=False)\n",
    "test_sample.to_csv(SAMPLE_DATA_DIR / \"test_sample.csv\", index=False)\n",
    "\n",
    "print(f\"\\n✅ Sample datasets saved to: {SAMPLE_DATA_DIR}\")\n",
    "print(f\"   - Train sample: {len(train_sample)} records\")\n",
    "print(f\"   - Val sample:   {len(val_sample)} records\")\n",
    "print(f\"   - Test sample:  {len(test_sample)} records\")"
   ]
  },
  {
   "cell_type": "code",
   "execution_count": 11,
   "id": "035d776a",
   "metadata": {},
   "outputs": [
    {
     "name": "stdout",
     "output_type": "stream",
     "text": [
      "\n",
      "================================================================================\n",
      "PREPROCESSING REPORT\n",
      "================================================================================\n",
      "✅ Saved JSON to: d:\\Fake_News_Detection_BERT\\notebooks\\..\\data\\processed\\preprocessing_report.json\n",
      "\n",
      "📊 Preprocessing Summary:\n",
      "   Total records: 136,063\n",
      "   Train: 95,244 (70.0%)\n",
      "   Val:   20,409 (15.0%)\n",
      "   Test:  20,410 (15.0%)\n",
      "\n",
      "📝 Text Statistics:\n",
      "   Avg original length: 2593 chars\n",
      "   Avg cleaned length:  2573 chars\n",
      "   Length reduction:    0.7%\n"
     ]
    }
   ],
   "source": [
    "# ============================================================================\n",
    "# CELL 8: Generate Preprocessing Report\n",
    "# ============================================================================\n",
    "print(\"\\n\" + \"=\"*80)\n",
    "print(\"PREPROCESSING REPORT\")\n",
    "print(\"=\"*80)\n",
    "\n",
    "report = {\n",
    "    \"preprocessing_date\": pd.Timestamp.now().isoformat(),\n",
    "    \"total_records\": len(train_df) + len(val_df) + len(test_df),\n",
    "    \"splits\": {\n",
    "        \"train\": {\n",
    "            \"count\": len(train_df),\n",
    "            \"percentage\": len(train_df) / (len(train_df) + len(val_df) + len(test_df)) * 100,\n",
    "            \"fake_percentage\": (train_df[DataConfig.LABEL_COLUMN] == 1).sum() / len(train_df) * 100\n",
    "        },\n",
    "        \"val\": {\n",
    "            \"count\": len(val_df),\n",
    "            \"percentage\": len(val_df) / (len(train_df) + len(val_df) + len(test_df)) * 100,\n",
    "            \"fake_percentage\": (val_df[DataConfig.LABEL_COLUMN] == 1).sum() / len(val_df) * 100\n",
    "        },\n",
    "        \"test\": {\n",
    "            \"count\": len(test_df),\n",
    "            \"percentage\": len(test_df) / (len(train_df) + len(val_df) + len(test_df)) * 100,\n",
    "            \"fake_percentage\": (test_df[DataConfig.LABEL_COLUMN] == 1).sum() / len(test_df) * 100\n",
    "        }\n",
    "    },\n",
    "    \"text_statistics\": {\n",
    "        \"avg_original_length\": float(train_df['original_length'].mean()),\n",
    "        \"avg_cleaned_length\": float(train_df['cleaned_length'].mean()),\n",
    "        \"avg_original_words\": float(train_df['original_word_count'].mean()),\n",
    "        \"avg_cleaned_words\": float(train_df['cleaned_word_count'].mean()),\n",
    "        \"length_reduction\": float((1 - train_df['cleaned_length'].mean() / train_df['original_length'].mean()) * 100)\n",
    "    },\n",
    "    \"preprocessing_config\": {\n",
    "        \"remove_urls\": DataConfig.REMOVE_URLS,\n",
    "        \"remove_mentions\": DataConfig.REMOVE_MENTIONS,\n",
    "        \"remove_hashtags\": DataConfig.REMOVE_HASHTAGS,\n",
    "        \"lowercase\": DataConfig.LOWERCASE,\n",
    "        \"random_seed\": DataConfig.RANDOM_SEED\n",
    "    }\n",
    "}\n",
    "\n",
    "# Save report\n",
    "save_json(report, PROCESSED_DATA_DIR / \"preprocessing_report.json\")\n",
    "\n",
    "print(\"\\n📊 Preprocessing Summary:\")\n",
    "print(f\"   Total records: {report['total_records']:,}\")\n",
    "print(f\"   Train: {report['splits']['train']['count']:,} ({report['splits']['train']['percentage']:.1f}%)\")\n",
    "print(f\"   Val:   {report['splits']['val']['count']:,} ({report['splits']['val']['percentage']:.1f}%)\")\n",
    "print(f\"   Test:  {report['splits']['test']['count']:,} ({report['splits']['test']['percentage']:.1f}%)\")\n",
    "print(f\"\\n📝 Text Statistics:\")\n",
    "print(f\"   Avg original length: {report['text_statistics']['avg_original_length']:.0f} chars\")\n",
    "print(f\"   Avg cleaned length:  {report['text_statistics']['avg_cleaned_length']:.0f} chars\")\n",
    "print(f\"   Length reduction:    {report['text_statistics']['length_reduction']:.1f}%\")"
   ]
  },
  {
   "cell_type": "code",
   "execution_count": null,
   "id": "8e517798",
   "metadata": {},
   "outputs": [],
   "source": [
    "# ============================================================================\n",
    "# CELL 9: Verify Saved Files\n",
    "# ============================================================================\n",
    "print(\"\\n\" + \"=\"*80)\n",
    "print(\"VERIFYING SAVED FILES\")\n",
    "print(\"=\"*80)\n",
    "\n",
    "import os\n",
    "\n",
    "print(f\"\\n📁 Processed Data Directory: {PROCESSED_DATA_DIR}\")\n",
    "print(\"\\nFiles:\")\n",
    "for file in os.listdir(PROCESSED_DATA_DIR):\n",
    "    filepath = PROCESSED_DATA_DIR / file\n",
    "    if filepath.is_file():\n",
    "        size_mb = filepath.stat().st_size / (1024 * 1024)\n",
    "        print(f\"   ✓ {file} ({size_mb:.2f} MB)\")\n",
    "\n",
    "print(f\"\\n📁 Sample Data Directory: {SAMPLE_DATA_DIR}\")\n",
    "print(\"\\nFiles:\")\n",
    "for file in os.listdir(SAMPLE_DATA_DIR):\n",
    "    filepath = SAMPLE_DATA_DIR / file\n",
    "    if filepath.is_file():\n",
    "        size_mb = filepath.stat().st_size / (1024 * 1024)\n",
    "        print(f\"   ✓ {file} ({size_mb:.2f} MB)\")\n"
   ]
  },
  {
   "cell_type": "code",
   "execution_count": 13,
   "id": "381f58d7",
   "metadata": {},
   "outputs": [
    {
     "name": "stdout",
     "output_type": "stream",
     "text": [
      "\n",
      "================================================================================\n",
      "PREPROCESSING COMPLETE! ✅\n",
      "================================================================================\n",
      "\n",
      "📌 What we accomplished:\n",
      "   ✓ Loaded and cleaned raw data\n",
      "   ✓ Split data into train/val/test (70/15/15)\n",
      "   ✓ Verified stratification\n",
      "   ✓ Created sample datasets for testing\n",
      "   ✓ Generated visualizations and reports\n",
      "\n",
      "🎯 Next Steps:\n",
      "   1. Train baseline model (TF-IDF + Logistic Regression)\n",
      "      >>> Run notebooks/03_baseline_model.ipynb\n",
      "\n",
      "   2. Tokenize data for BERT\n",
      "      >>> Create src/dataset.py\n",
      "\n",
      "   3. Fine-tune BERT model\n",
      "      >>> Run notebooks/04_bert_training.ipynb\n",
      "\n",
      "================================================================================\n"
     ]
    }
   ],
   "source": [
    "# ============================================================================\n",
    "# CELL 10: Next Steps\n",
    "# ============================================================================\n",
    "print(\"\\n\" + \"=\"*80)\n",
    "print(\"PREPROCESSING COMPLETE! ✅\")\n",
    "print(\"=\"*80)\n",
    "\n",
    "print(\"\\n📌 What we accomplished:\")\n",
    "print(\"   ✓ Loaded and cleaned raw data\")\n",
    "print(\"   ✓ Split data into train/val/test (70/15/15)\")\n",
    "print(\"   ✓ Verified stratification\")\n",
    "print(\"   ✓ Created sample datasets for testing\")\n",
    "print(\"   ✓ Generated visualizations and reports\")\n",
    "\n",
    "print(\"\\n🎯 Next Steps:\")\n",
    "print(\"   1. Train baseline model (TF-IDF + Logistic Regression)\")\n",
    "print(\"      >>> Run notebooks/03_baseline_model.ipynb\")\n",
    "print(\"\\n   2. Tokenize data for BERT\")\n",
    "print(\"      >>> Create src/dataset.py\")\n",
    "print(\"\\n   3. Fine-tune BERT model\")\n",
    "print(\"      >>> Run notebooks/04_bert_training.ipynb\")\n",
    "\n",
    "print(\"\\n\" + \"=\"*80)"
   ]
  }
 ],
 "metadata": {
  "kernelspec": {
   "display_name": ".venv",
   "language": "python",
   "name": "python3"
  },
  "language_info": {
   "codemirror_mode": {
    "name": "ipython",
    "version": 3
   },
   "file_extension": ".py",
   "mimetype": "text/x-python",
   "name": "python",
   "nbconvert_exporter": "python",
   "pygments_lexer": "ipython3",
   "version": "3.12.7"
  }
 },
 "nbformat": 4,
 "nbformat_minor": 5
}
